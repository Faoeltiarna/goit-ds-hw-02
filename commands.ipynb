{
 "cells": [
  {
   "cell_type": "code",
   "execution_count": 2,
   "metadata": {},
   "outputs": [],
   "source": [
    "def get_tasks_by_user(user_id):\n",
    "    conn = sqlite3.connect('GO_IT_HW_2.db')\n",
    "    cursor = conn.cursor()\n",
    "    cursor.execute('SELECT * FROM tasks WHERE user_id = ?', (user_id,))\n",
    "    tasks = cursor.fetchall()\n",
    "    conn.close()\n",
    "    return tasks\n"
   ]
  },
  {
   "cell_type": "code",
   "execution_count": 3,
   "metadata": {},
   "outputs": [],
   "source": [
    "def get_tasks_by_status(status_name):\n",
    "    conn = sqlite3.connect('GO_IT_HW_2.db')\n",
    "    cursor = conn.cursor()\n",
    "    cursor.execute('''\n",
    "        SELECT tasks.* FROM tasks\n",
    "        JOIN status ON tasks.status_id = status.id\n",
    "        WHERE status.name = ?\n",
    "    ''', (status_name,))\n",
    "    tasks = cursor.fetchall()\n",
    "    conn.close()\n",
    "    return tasks\n"
   ]
  },
  {
   "cell_type": "code",
   "execution_count": 4,
   "metadata": {},
   "outputs": [],
   "source": [
    "def update_task_status(task_id, new_status_name):\n",
    "    conn = sqlite3.connect('GO_IT_HW_2.db')\n",
    "    cursor = conn.cursor()\n",
    "    cursor.execute('SELECT id FROM status WHERE name = ?', (new_status_name,))\n",
    "    status_id = cursor.fetchone()[0]\n",
    "    cursor.execute('UPDATE tasks SET status_id = ? WHERE id = ?', (status_id, task_id))\n",
    "    conn.commit()\n",
    "    conn.close()\n"
   ]
  },
  {
   "cell_type": "code",
   "execution_count": 5,
   "metadata": {},
   "outputs": [],
   "source": [
    "def get_users_without_tasks():\n",
    "    conn = sqlite3.connect('GO_IT_HW_2.db')\n",
    "    cursor = conn.cursor()\n",
    "    cursor.execute('''\n",
    "        SELECT * FROM users WHERE id NOT IN (SELECT user_id FROM tasks)\n",
    "    ''')\n",
    "    users = cursor.fetchall()\n",
    "    conn.close()\n",
    "    return users\n"
   ]
  },
  {
   "cell_type": "code",
   "execution_count": 6,
   "metadata": {},
   "outputs": [],
   "source": [
    "def add_task(title, description, user_id, status_name):\n",
    "    conn = sqlite3.connect('GO_IT_HW_2.db')\n",
    "    cursor = conn.cursor()\n",
    "    cursor.execute('SELECT id FROM status WHERE name = ?', (status_name,))\n",
    "    status_id = cursor.fetchone()[0]\n",
    "    cursor.execute('''\n",
    "        INSERT INTO tasks (title, description, status_id, user_id)\n",
    "        VALUES (?, ?, ?, ?)\n",
    "    ''', (title, description, status_id, user_id))\n",
    "    conn.commit()\n",
    "    conn.close()\n"
   ]
  },
  {
   "cell_type": "code",
   "execution_count": 7,
   "metadata": {},
   "outputs": [],
   "source": [
    "def get_incomplete_tasks():\n",
    "    conn = sqlite3.connect('GO_IT_HW_2.db')\n",
    "    cursor = conn.cursor()\n",
    "    cursor.execute('''\n",
    "        SELECT tasks.* FROM tasks\n",
    "        JOIN status ON tasks.status_id = status.id\n",
    "        WHERE status.name != 'completed'\n",
    "    ''')\n",
    "    tasks = cursor.fetchall()\n",
    "    conn.close()\n",
    "    return tasks\n"
   ]
  },
  {
   "cell_type": "code",
   "execution_count": 8,
   "metadata": {},
   "outputs": [],
   "source": [
    "def delete_task(task_id):\n",
    "    conn = sqlite3.connect('GO_IT_HW_2.db')\n",
    "    cursor = conn.cursor()\n",
    "    cursor.execute('DELETE FROM tasks WHERE id = ?', (task_id,))\n",
    "    conn.commit()\n",
    "    conn.close()\n"
   ]
  },
  {
   "cell_type": "code",
   "execution_count": 9,
   "metadata": {},
   "outputs": [],
   "source": [
    "def find_users_by_email(email_pattern):\n",
    "    conn = sqlite3.connect('GO_IT_HW_2.db')\n",
    "    cursor = conn.cursor()\n",
    "    cursor.execute('SELECT * FROM users WHERE email LIKE ?', (email_pattern,))\n",
    "    users = cursor.fetchall()\n",
    "    conn.close()\n",
    "    return users\n"
   ]
  },
  {
   "cell_type": "code",
   "execution_count": 10,
   "metadata": {},
   "outputs": [],
   "source": [
    "def update_user_name(user_id, new_name):\n",
    "    conn = sqlite3.connect('GO_IT_HW_2.db')\n",
    "    cursor = conn.cursor()\n",
    "    cursor.execute('UPDATE users SET fullname = ? WHERE id = ?', (new_name, user_id))\n",
    "    conn.commit()\n",
    "    conn.close()\n"
   ]
  },
  {
   "cell_type": "code",
   "execution_count": 11,
   "metadata": {},
   "outputs": [],
   "source": [
    "def count_tasks_by_status():\n",
    "    conn = sqlite3.connect('GO_IT_HW_2.db')\n",
    "    cursor = conn.cursor()\n",
    "    cursor.execute('''\n",
    "        SELECT status.name, COUNT(tasks.id) FROM tasks\n",
    "        JOIN status ON tasks.status_id = status.id\n",
    "        GROUP BY status.name\n",
    "    ''')\n",
    "    counts = cursor.fetchall()\n",
    "    conn.close()\n",
    "    return counts\n"
   ]
  }
 ],
 "metadata": {
  "kernelspec": {
   "display_name": "Python 3",
   "language": "python",
   "name": "python3"
  },
  "language_info": {
   "codemirror_mode": {
    "name": "ipython",
    "version": 3
   },
   "file_extension": ".py",
   "mimetype": "text/x-python",
   "name": "python",
   "nbconvert_exporter": "python",
   "pygments_lexer": "ipython3",
   "version": "3.12.3"
  }
 },
 "nbformat": 4,
 "nbformat_minor": 2
}
